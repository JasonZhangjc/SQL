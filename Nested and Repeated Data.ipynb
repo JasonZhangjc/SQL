{
 "cells": [
  {
   "cell_type": "code",
   "execution_count": null,
   "id": "ae95ce29",
   "metadata": {},
   "outputs": [],
   "source": [
    "from google.cloud import bigquery\n",
    "\n",
    "# Create a \"Client\" object\n",
    "client = bigquery.Client()\n",
    "\n",
    "# Construct a reference to the \"google_analytics_sample\" dataset\n",
    "dataset_ref = client.dataset(\"google_analytics_sample\", project=\"bigquery-public-data\")\n",
    "\n",
    "# Construct a reference to the \"ga_sessions_20170801\" table\n",
    "table_ref = dataset_ref.table(\"ga_sessions_20170801\")\n",
    "\n",
    "# API request - fetch the table\n",
    "table = client.get_table(table_ref)\n",
    "\n",
    "# Preview the first five lines of the table\n",
    "client.list_rows(table, max_results=5).to_dataframe()"
   ]
  },
  {
   "cell_type": "code",
   "execution_count": null,
   "id": "25bcd388",
   "metadata": {},
   "outputs": [],
   "source": [
    "print(\"SCHEMA field for the 'totals' column:\\n\")\n",
    "print(table.schema[5])\n",
    "\n",
    "print(\"\\nSCHEMA field for the 'device' column:\\n\")\n",
    "print(table.schema[7])"
   ]
  },
  {
   "cell_type": "code",
   "execution_count": null,
   "id": "be072c33",
   "metadata": {},
   "outputs": [],
   "source": [
    "# Query to count the number of transactions per browser\n",
    "query = \"\"\"\n",
    "        SELECT device.browser AS device_browser,\n",
    "            SUM(totals.transactions) as total_transactions\n",
    "        FROM `bigquery-public-data.google_analytics_sample.ga_sessions_20170801`\n",
    "        GROUP BY device_browser\n",
    "        ORDER BY total_transactions DESC\n",
    "        \"\"\"\n",
    "\n",
    "# Run the query, and return a pandas DataFrame\n",
    "result = client.query(query).result().to_dataframe()\n",
    "result.head()"
   ]
  },
  {
   "cell_type": "code",
   "execution_count": null,
   "id": "a447427b",
   "metadata": {},
   "outputs": [],
   "source": [
    "# Query to determine most popular landing point on the website\n",
    "query = \"\"\"\n",
    "        SELECT hits.page.pagePath as path,\n",
    "            COUNT(hits.page.pagePath) as counts\n",
    "        FROM `bigquery-public-data.google_analytics_sample.ga_sessions_20170801`, \n",
    "            UNNEST(hits) as hits\n",
    "        WHERE hits.type=\"PAGE\" and hits.hitNumber=1\n",
    "        GROUP BY path\n",
    "        ORDER BY counts DESC\n",
    "        \"\"\"\n",
    "\n",
    "# Run the query, and return a pandas DataFrame\n",
    "result = client.query(query).result().to_dataframe()\n",
    "result.head()"
   ]
  },
  {
   "cell_type": "code",
   "execution_count": null,
   "id": "c750208a",
   "metadata": {},
   "outputs": [],
   "source": []
  }
 ],
 "metadata": {
  "kernelspec": {
   "display_name": "Python 3",
   "language": "python",
   "name": "python3"
  },
  "language_info": {
   "codemirror_mode": {
    "name": "ipython",
    "version": 3
   },
   "file_extension": ".py",
   "mimetype": "text/x-python",
   "name": "python",
   "nbconvert_exporter": "python",
   "pygments_lexer": "ipython3",
   "version": "3.7.9"
  }
 },
 "nbformat": 4,
 "nbformat_minor": 5
}
